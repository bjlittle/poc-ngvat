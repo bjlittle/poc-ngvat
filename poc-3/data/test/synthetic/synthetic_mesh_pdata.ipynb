{
 "cells": [
  {
   "cell_type": "code",
   "execution_count": null,
   "metadata": {},
   "outputs": [],
   "source": [
    "import numpy as np\n",
    "import pyvista as pv\n",
    "\n",
    "from utils import load_nodes"
   ]
  },
  {
   "cell_type": "code",
   "execution_count": null,
   "metadata": {},
   "outputs": [],
   "source": [
    "def to_polydata(fname, node_face, node_x, node_y, radius=None, start_index=True, synthetic=True):\n",
    "    if radius is None:\n",
    "        radius = 1.0\n",
    "        \n",
    "    (x, y, z), faces = load_nodes(fname, node_face, node_x, node_y, radius, start_index=start_index)\n",
    "    vertices = np.vstack((np.ravel(x), np.ravel(y), np.ravel(z))).T\n",
    "    \n",
    "    pdata = pv.PolyData(vertices, faces)\n",
    "    \n",
    "    # add some synthetic data to the cells of each panel\n",
    "    if synthetic:\n",
    "        N_faces = faces.shape[0]\n",
    "        N_panels = 6\n",
    "        N_faces_per_panel = N_faces // N_panels\n",
    "        dtype = np.int32\n",
    "        cell_array = np.ones(N_faces, dtype=dtype)\n",
    "\n",
    "        for p in range(N_panels):\n",
    "            data = np.arange(N_faces_per_panel, dtype=dtype)\n",
    "            cell_array[N_faces_per_panel*p:N_faces_per_panel*(p+1)] = data\n",
    "\n",
    "        pdata.cell_arrays[\"faces\"] = cell_array\n",
    "    \n",
    "    return pdata"
   ]
  },
  {
   "cell_type": "code",
   "execution_count": null,
   "metadata": {},
   "outputs": [],
   "source": [
    "fname = \"/home/bill/pyvista/data/test/synthetic/mesh_C4.nc\"\n",
    "node_face = \"example_C4_face_nodes\"\n",
    "node_x = \"example_C4_node_x\"\n",
    "node_y = \"example_C4_node_y\""
   ]
  },
  {
   "cell_type": "code",
   "execution_count": null,
   "metadata": {},
   "outputs": [],
   "source": [
    "fname = \"/home/bill/pyvista/data/test/synthetic/mesh_C12.nc\"\n",
    "node_face = \"dynamics_face_nodes\"\n",
    "node_x = \"dynamics_node_x\"\n",
    "node_y = \"dynamics_node_y\""
   ]
  },
  {
   "cell_type": "code",
   "execution_count": null,
   "metadata": {},
   "outputs": [],
   "source": [
    "fname = \"/home/bill/pyvista/data/test/synthetic/mesh_C24.nc\"\n",
    "node_face = \"dynamics_face_nodes\"\n",
    "node_x = \"dynamics_node_x\"\n",
    "node_y = \"dynamics_node_y\""
   ]
  },
  {
   "cell_type": "code",
   "execution_count": null,
   "metadata": {},
   "outputs": [],
   "source": [
    "fname = \"/home/bill/pyvista/data/test/synthetic/mesh_C48.nc\"\n",
    "node_face = \"dynamics_face_nodes\"\n",
    "node_x = \"dynamics_node_x\"\n",
    "node_y = \"dynamics_node_y\""
   ]
  },
  {
   "cell_type": "code",
   "execution_count": null,
   "metadata": {},
   "outputs": [],
   "source": [
    "fname = \"/home/bill/pyvista/data/test/synthetic/mesh_C96.nc\"\n",
    "node_face = \"dynamics_face_nodes\"\n",
    "node_x = \"dynamics_node_x\"\n",
    "node_y = \"dynamics_node_y\""
   ]
  },
  {
   "cell_type": "code",
   "execution_count": null,
   "metadata": {},
   "outputs": [],
   "source": [
    "fname = \"/home/bill/projects/git/poc-ngvat/poc-3/data/test/synthetic/mesh_C192.nc\"\n",
    "node_face = \"192_face_nodes\"\n",
    "node_x = \"192_node_x\"\n",
    "node_y = \"192_node_y\""
   ]
  },
  {
   "cell_type": "code",
   "execution_count": null,
   "metadata": {},
   "outputs": [],
   "source": [
    "fname = \"/home/bill/projects/git/poc-ngvat/poc-3/data/test/synthetic/mesh_C384.nc\"\n",
    "node_face = \"384_face_nodes\"\n",
    "node_x = \"384_node_x\"\n",
    "node_y = \"384_node_y\""
   ]
  },
  {
   "cell_type": "code",
   "execution_count": null,
   "metadata": {},
   "outputs": [],
   "source": [
    "fname = \"/home/bill/projects/git/poc-ngvat/poc-3/data/test/synthetic/mesh_C768.nc\"\n",
    "node_face = \"768_face_nodes\"\n",
    "node_x = \"768_node_x\"\n",
    "node_y = \"768_node_y\""
   ]
  },
  {
   "cell_type": "code",
   "execution_count": null,
   "metadata": {},
   "outputs": [],
   "source": [
    "fname = \"/home/bill/pyvista/data/test/synthetic/mesh_C1048.nc\"\n",
    "node_face = \"dynamics_face_nodes\"\n",
    "node_x = \"dynamics_node_x\"\n",
    "node_y = \"dynamics_node_y\""
   ]
  },
  {
   "cell_type": "code",
   "execution_count": null,
   "metadata": {},
   "outputs": [],
   "source": [
    "fname = \"/home/bill/projects/git/poc-ngvat/poc-3/data/test/synthetic/mesh_C1664.nc\"\n",
    "node_face = \"C1664_face_nodes\"\n",
    "node_x = \"C1664_node_x\"\n",
    "node_y = \"C1664_node_y\""
   ]
  },
  {
   "cell_type": "code",
   "execution_count": null,
   "metadata": {},
   "outputs": [],
   "source": [
    "fname = \"/home/bill/projects/git/poc-ngvat/poc-3/data/test/synthetic/mesh_C1668.nc\"\n",
    "node_face = \"1668_face_nodes\"\n",
    "node_x = \"1668_node_x\"\n",
    "node_y = \"1668_node_y\""
   ]
  },
  {
   "cell_type": "code",
   "execution_count": null,
   "metadata": {},
   "outputs": [],
   "source": [
    "pdata = to_polydata(fname, node_face, node_x, node_y, synthetic=False)"
   ]
  },
  {
   "cell_type": "code",
   "execution_count": null,
   "metadata": {},
   "outputs": [],
   "source": [
    "p = pv.PlotterITK()\n",
    "p.add_mesh(pdata)\n",
    "#p.add_points(ugrid.points, color=\"green\")\n",
    "p.show()"
   ]
  },
  {
   "cell_type": "code",
   "execution_count": null,
   "metadata": {},
   "outputs": [],
   "source": [
    "pdata"
   ]
  },
  {
   "cell_type": "code",
   "execution_count": null,
   "metadata": {},
   "outputs": [],
   "source": [
    "mesh_fname = \"pdata_C1668_synthetic.vtk\"\n",
    "pdata.save(mesh_fname)"
   ]
  },
  {
   "cell_type": "code",
   "execution_count": null,
   "metadata": {},
   "outputs": [],
   "source": [
    "!ls -lh pdata*.vtk"
   ]
  },
  {
   "cell_type": "code",
   "execution_count": null,
   "metadata": {},
   "outputs": [],
   "source": [
    "mesh = pv.read(\"pdata_C1048.vtk\")"
   ]
  },
  {
   "cell_type": "code",
   "execution_count": null,
   "metadata": {},
   "outputs": [],
   "source": [
    "p = pv.PlotterITK()\n",
    "p.add_mesh(mesh)\n",
    "#p.add_points(mesh.points, color=\"red\")\n",
    "p.show()"
   ]
  },
  {
   "cell_type": "code",
   "execution_count": null,
   "metadata": {},
   "outputs": [],
   "source": [
    "mesh = pv.read(\"pdata_C1668.vtk\")"
   ]
  },
  {
   "cell_type": "code",
   "execution_count": null,
   "metadata": {},
   "outputs": [],
   "source": [
    "mesh.extract_cells(np.arange(mesh.n_cells/6))"
   ]
  },
  {
   "cell_type": "code",
   "execution_count": null,
   "metadata": {},
   "outputs": [],
   "source": []
  }
 ],
 "metadata": {
  "kernelspec": {
   "display_name": "Python 3",
   "language": "python",
   "name": "python3"
  },
  "language_info": {
   "codemirror_mode": {
    "name": "ipython",
    "version": 3
   },
   "file_extension": ".py",
   "mimetype": "text/x-python",
   "name": "python",
   "nbconvert_exporter": "python",
   "pygments_lexer": "ipython3",
   "version": "3.8.2"
  }
 },
 "nbformat": 4,
 "nbformat_minor": 4
}
