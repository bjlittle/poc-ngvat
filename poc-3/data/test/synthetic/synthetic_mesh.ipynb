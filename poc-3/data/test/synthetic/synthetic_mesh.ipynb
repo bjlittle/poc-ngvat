{
 "cells": [
  {
   "cell_type": "code",
   "execution_count": null,
   "metadata": {},
   "outputs": [],
   "source": [
    "import matplotlib.pyplot as plt\n",
    "from math import floor, log10\n",
    "import netCDF4 as nc\n",
    "import numpy as np\n",
    "import os\n",
    "import pyvista as pv\n",
    "import vtk"
   ]
  },
  {
   "cell_type": "code",
   "execution_count": null,
   "metadata": {},
   "outputs": [],
   "source": [
    "def netcdf_copy(dsin, fnamein, datain):\n",
    "    assert datain.ndim == 1, \"oops! expected only 1D datain\"\n",
    "    \n",
    "    # output file\n",
    "    fnameout, ext = os.path.splitext(fnamein)\n",
    "    fnameout = os.path.join(f\"{fnameout}_synthetic{ext}\")\n",
    "    \n",
    "    dsout = nc.Dataset(fnameout, \"w\", format=dsin.file_format)\n",
    "\n",
    "    dnameout = None\n",
    "    meshout = None\n",
    "    coordinates = []\n",
    "    \n",
    "    # copy dimensions\n",
    "    for dname, the_dim in dsin.dimensions.items():\n",
    "        #print(dname, the_dim.size)\n",
    "        if the_dim.size == datain.shape[0]:\n",
    "            dnameout = dname\n",
    "        dsout.createDimension(dname, the_dim.size if not the_dim.isunlimited() else None)\n",
    "\n",
    "    # copy variables\n",
    "    for v_name, varin in dsin.variables.items():\n",
    "        outVar = dsout.createVariable(v_name, varin.datatype, varin.dimensions)\n",
    "        #print(v_name, varin.datatype, varin.dimensions)\n",
    "    \n",
    "        # copy variable attributes\n",
    "        attrs = {k: varin.getncattr(k) for k in varin.ncattrs()}\n",
    "        outVar.setncatts(attrs)\n",
    "        outVar[:] = varin[:]\n",
    "        \n",
    "        if \"cf_role\" in attrs and attrs[\"cf_role\"] == \"mesh_topology\":\n",
    "            meshout = v_name\n",
    "        if len(varin.dimensions) == 1 and varin.dimensions[0] == dnameout:\n",
    "            coordinates.append(v_name)\n",
    "            \n",
    "    # create the new data variable\n",
    "    assert dnameout is not None, \"oops! no output dimension name found\"\n",
    "    assert meshout is not None, \"oops! no output mesh topology found\"\n",
    "    outVar = dsout.createVariable(\"synthetic\", datain.dtype, (dnameout,))\n",
    "    outVar[:] = datain\n",
    "    coordinatesout = ' '.join(coordinates)\n",
    "    attrs = dict(long_name=\"synthetic\", units=\"1\", mesh=meshout, coordinates=coordinatesout)\n",
    "    outVar.setncatts(attrs)\n",
    "    \n",
    "    # copy global attributes\n",
    "    dsout.setncatts({k: dsin.getncattr(k) for k in dsin.ncattrs()})\n",
    "    \n",
    "    # close the output file\n",
    "    dsout.close()"
   ]
  },
  {
   "cell_type": "code",
   "execution_count": null,
   "metadata": {},
   "outputs": [],
   "source": [
    "def to_unstructured(fname, node_face, node_x, node_y, radius=None, start_index=True, panel=None, synthetic=True):\n",
    "    if radius is None:\n",
    "        radius = 1.0\n",
    "        \n",
    "    ds = nc.Dataset(fname)\n",
    "    node_face = ds.variables[node_face][:].data\n",
    "    node_x = ds.variables[node_x][:].data\n",
    "    node_y = ds.variables[node_y][:].data\n",
    "\n",
    "    # account for start_index = 1\n",
    "    if start_index:\n",
    "        node_x = np.concatenate(([0], node_x))\n",
    "        node_y = np.concatenate(([0], node_y))\n",
    "    \n",
    "    # convert lat/lon to cartesian coordinates\n",
    "    node_face_x = node_x[node_face]\n",
    "    node_face_y = 90.0 - node_y[node_face]\n",
    "    \n",
    "    node_face_x_rad = np.radians(node_face_x)\n",
    "    node_face_y_rad = np.radians(node_face_y)\n",
    "    \n",
    "    x = radius * np.sin(node_face_y_rad) * np.cos(node_face_x_rad)\n",
    "    y = radius * np.sin(node_face_y_rad) * np.sin(node_face_x_rad)\n",
    "    z = radius * np.cos(node_face_y_rad)\n",
    "    \n",
    "    # set the VTK cell type and number of vertices\n",
    "    vtk_cell_type = vtk.VTK_QUAD\n",
    "    N_nodes = 4\n",
    "    N_panels = 6\n",
    "    \n",
    "    # create unstructured grid\n",
    "    points = np.vstack((np.ravel(x), np.ravel(y), np.ravel(z))).T\n",
    "    if panel is not None:\n",
    "        from collections import Iterable\n",
    "\n",
    "        PN = points.shape[0] // N_panels\n",
    "        if isinstance(panel, Iterable):\n",
    "            panel_points = []\n",
    "            for p in sorted(panel):\n",
    "                panel_points.append(points[p*PN:(p+1)*PN])\n",
    "            points = np.concatenate(tuple(panel_points))\n",
    "        else:\n",
    "            points = points[panel*PN:(panel+1)*PN]\n",
    "\n",
    "    N_points = points.shape[0]\n",
    "    N_faces = N_points // N_nodes\n",
    "    N_faces_per_panel = N_faces // N_panels\n",
    "    #print(N_points, N_faces, N_faces_per_panel, N_nodes)\n",
    "    cell_type = np.broadcast_to(np.array([vtk.VTK_QUAD], np.uint8), (N_faces,))\n",
    "    cells = np.ravel(np.hstack((np.broadcast_to(np.array([N_nodes], np.int8), (N_faces, 1)),\n",
    "                                np.arange(0, N_points).reshape((-1, N_nodes)))))\n",
    "    offset = np.arange(0, cells.shape[0], N_nodes + 1)\n",
    "    \n",
    "    ugrid = pv.UnstructuredGrid(offset, cells, cell_type, points)\n",
    "    \n",
    "    # add some synthetic data to the cells of each panel\n",
    "    if synthetic:\n",
    "        dtype = np.int32\n",
    "        cell_array = np.ones(N_faces, dtype=dtype)\n",
    "        panel_offset = 10**(floor(log10(N_faces_per_panel)) + 1)\n",
    "        print(panel_offset)\n",
    "\n",
    "        for p in range(N_panels):\n",
    "            data = np.arange(N_faces_per_panel, dtype=dtype) #+ p * panel_offset\n",
    "            cell_array[N_faces_per_panel*p:N_faces_per_panel*(p+1)] = data\n",
    "\n",
    "        ugrid.cell_arrays[\"faces\"] = cell_array\n",
    "        netcdf_copy(ds, fname, cell_array)\n",
    "        \n",
    "    ds.close()\n",
    "    \n",
    "    return ugrid"
   ]
  },
  {
   "cell_type": "code",
   "execution_count": null,
   "metadata": {},
   "outputs": [],
   "source": [
    "fname = \"/home/bill/pyvista/data/test/synthetic/mesh_C4.nc\"\n",
    "node_face = \"example_C4_face_nodes\"\n",
    "node_x = \"example_C4_node_x\"\n",
    "node_y = \"example_C4_node_y\""
   ]
  },
  {
   "cell_type": "code",
   "execution_count": null,
   "metadata": {},
   "outputs": [],
   "source": [
    "fname = \"/home/bill/pyvista/data/test/synthetic/mesh_C12.nc\"\n",
    "node_face = \"dynamics_face_nodes\"\n",
    "node_x = \"dynamics_node_x\"\n",
    "node_y = \"dynamics_node_y\""
   ]
  },
  {
   "cell_type": "code",
   "execution_count": null,
   "metadata": {},
   "outputs": [],
   "source": [
    "fname = \"/home/bill/pyvista/data/test/synthetic/mesh_C24.nc\"\n",
    "node_face = \"dynamics_face_nodes\"\n",
    "node_x = \"dynamics_node_x\"\n",
    "node_y = \"dynamics_node_y\""
   ]
  },
  {
   "cell_type": "code",
   "execution_count": null,
   "metadata": {},
   "outputs": [],
   "source": [
    "fname = \"/home/bill/pyvista/data/test/synthetic/mesh_C48.nc\"\n",
    "node_face = \"dynamics_face_nodes\"\n",
    "node_x = \"dynamics_node_x\"\n",
    "node_y = \"dynamics_node_y\""
   ]
  },
  {
   "cell_type": "code",
   "execution_count": null,
   "metadata": {},
   "outputs": [],
   "source": [
    "fname = \"/home/bill/pyvista/data/test/synthetic/mesh_C96.nc\"\n",
    "node_face = \"dynamics_face_nodes\"\n",
    "node_x = \"dynamics_node_x\"\n",
    "node_y = \"dynamics_node_y\""
   ]
  },
  {
   "cell_type": "code",
   "execution_count": null,
   "metadata": {},
   "outputs": [],
   "source": [
    "fname = \"/home/bill/pyvista/data/test/synthetic/mesh_C1048.nc\"\n",
    "node_face = \"dynamics_face_nodes\"\n",
    "node_x = \"dynamics_node_x\"\n",
    "node_y = \"dynamics_node_y\""
   ]
  },
  {
   "cell_type": "code",
   "execution_count": null,
   "metadata": {},
   "outputs": [],
   "source": [
    "fname = \"/home/bill/pyvista/data/test/real/qrclim.sst.ugrid.nc\"\n",
    "node_face = \"dynamics_face_nodes\"\n",
    "node_x = \"dynamics_node_x\"\n",
    "node_y = \"dynamics_node_y\"\n",
    "data = \"surface_temperature\""
   ]
  },
  {
   "cell_type": "code",
   "execution_count": null,
   "metadata": {},
   "outputs": [],
   "source": [
    "ugrid = to_unstructured(fname, node_face, node_x, node_y, synthetic=False)"
   ]
  },
  {
   "cell_type": "code",
   "execution_count": null,
   "metadata": {},
   "outputs": [],
   "source": [
    "p = pv.PlotterITK()\n",
    "p.add_mesh(ugrid)\n",
    "#p.add_points(ugrid.points, color=\"green\")\n",
    "p.show()"
   ]
  },
  {
   "cell_type": "code",
   "execution_count": null,
   "metadata": {},
   "outputs": [],
   "source": [
    "mesh_fname = \"ugrid_C1048.vtk\"\n",
    "ugrid.save(mesh_fname)"
   ]
  },
  {
   "cell_type": "code",
   "execution_count": null,
   "metadata": {},
   "outputs": [],
   "source": [
    "!ls -l *.vtk"
   ]
  },
  {
   "cell_type": "code",
   "execution_count": null,
   "metadata": {},
   "outputs": [],
   "source": [
    "mesh = pv.read(\"ugrid_C1048.vtk\")"
   ]
  },
  {
   "cell_type": "code",
   "execution_count": null,
   "metadata": {},
   "outputs": [],
   "source": [
    "mesh"
   ]
  },
  {
   "cell_type": "code",
   "execution_count": null,
   "metadata": {},
   "outputs": [],
   "source": [
    "p = pv.PlotterITK()\n",
    "p.add_mesh(mesh)\n",
    "#p.add_points(mesh.points, color=\"red\")\n",
    "p.show()"
   ]
  },
  {
   "cell_type": "code",
   "execution_count": null,
   "metadata": {},
   "outputs": [],
   "source": []
  }
 ],
 "metadata": {
  "kernelspec": {
   "display_name": "Python 3",
   "language": "python",
   "name": "python3"
  },
  "language_info": {
   "codemirror_mode": {
    "name": "ipython",
    "version": 3
   },
   "file_extension": ".py",
   "mimetype": "text/x-python",
   "name": "python",
   "nbconvert_exporter": "python",
   "pygments_lexer": "ipython3",
   "version": "3.8.2"
  }
 },
 "nbformat": 4,
 "nbformat_minor": 4
}
