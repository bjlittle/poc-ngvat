{
 "cells": [
  {
   "cell_type": "code",
   "execution_count": null,
   "metadata": {},
   "outputs": [],
   "source": [
    "import matplotlib.pyplot as plt\n",
    "from math import floor, log10\n",
    "import netCDF4 as nc\n",
    "import numpy as np\n",
    "import os\n",
    "import pyvista as pv\n",
    "import vtk\n",
    "\n",
    "from utils import earth_cube_nodes, netcdf_copy"
   ]
  },
  {
   "cell_type": "code",
   "execution_count": null,
   "metadata": {},
   "outputs": [],
   "source": [
    "def to_unstructured(fname, node_face, node_x, node_y, radius=None, start_index=True, panel=None, synthetic=True, cube=None):\n",
    "    if radius is None:\n",
    "        radius = 1.0\n",
    "        \n",
    "    ds = nc.Dataset(fname)\n",
    "    node_face = ds.variables[node_face][:].data\n",
    "    node_x = ds.variables[node_x][:].data\n",
    "    node_y = ds.variables[node_y][:].data\n",
    "\n",
    "    if cube is not None:\n",
    "        cube_x, cube_y, cube_z = cube[:, 0], cube[:, 1], cube[:, 2]\n",
    "    \n",
    "    # account for start_index = 1\n",
    "    if start_index:\n",
    "        node_x = np.concatenate(([0], node_x))\n",
    "        node_y = np.concatenate(([0], node_y))\n",
    "        \n",
    "        if cube is not None:\n",
    "            cube_x = np.concatenate(([0], cube_x))\n",
    "            cube_y = np.concatenate(([0], cube_y))\n",
    "            cube_z = np.concatenate(([0], cube_z))    \n",
    "    \n",
    "    # convert lat/lon to cartesian coordinates\n",
    "    node_face_x = node_x[node_face]\n",
    "    node_face_y = 90.0 - node_y[node_face]\n",
    "    \n",
    "    node_face_x_rad = np.radians(node_face_x)\n",
    "    node_face_y_rad = np.radians(node_face_y)\n",
    "    \n",
    "    x = radius * np.sin(node_face_y_rad) * np.cos(node_face_x_rad)\n",
    "    y = radius * np.sin(node_face_y_rad) * np.sin(node_face_x_rad)\n",
    "    z = radius * np.cos(node_face_y_rad)\n",
    "    \n",
    "    if cube is not None:\n",
    "        x = radius * cube_x[node_face]\n",
    "        y = radius * cube_y[node_face]\n",
    "        z = radius * cube_z[node_face]\n",
    "    \n",
    "    # set the VTK cell type and number of vertices\n",
    "    vtk_cell_type = vtk.VTK_QUAD\n",
    "    N_nodes = 4\n",
    "    N_panels = 6\n",
    "    \n",
    "    # create unstructured grid\n",
    "    points = np.vstack((np.ravel(x), np.ravel(y), np.ravel(z))).T\n",
    "    if panel is not None:\n",
    "        from collections import Iterable\n",
    "\n",
    "        PN = points.shape[0] // N_panels\n",
    "        if isinstance(panel, Iterable):\n",
    "            panel_points = []\n",
    "            for p in sorted(panel):\n",
    "                panel_points.append(points[p*PN:(p+1)*PN])\n",
    "            points = np.concatenate(tuple(panel_points))\n",
    "        else:\n",
    "            points = points[panel*PN:(panel+1)*PN]\n",
    "\n",
    "    N_points = points.shape[0]\n",
    "    N_faces = N_points // N_nodes\n",
    "    N_faces_per_panel = N_faces // N_panels\n",
    "    print(N_points, N_faces, N_faces_per_panel, N_nodes)\n",
    "    cell_type = np.broadcast_to(np.array([vtk.VTK_QUAD], np.uint8), (N_faces,))\n",
    "    cells = np.ravel(np.hstack((np.broadcast_to(np.array([N_nodes], np.int8), (N_faces, 1)),\n",
    "                                np.arange(0, N_points).reshape((-1, N_nodes)))))\n",
    "    offset = np.arange(0, cells.shape[0], N_nodes + 1)\n",
    "    \n",
    "    ugrid = pv.UnstructuredGrid(offset, cells, cell_type, points)\n",
    "    \n",
    "    # add some synthetic data to the cells of each panel\n",
    "    if synthetic:\n",
    "        dtype = np.int32\n",
    "        cell_array = np.ones(N_faces, dtype=dtype)\n",
    "        panel_offset = 10**(floor(log10(N_faces_per_panel)) + 1)\n",
    "        print(panel_offset)\n",
    "\n",
    "        for p in range(N_panels):\n",
    "            data = np.arange(N_faces_per_panel, dtype=dtype) #+ p * panel_offset\n",
    "            cell_array[N_faces_per_panel*p:N_faces_per_panel*(p+1)] = data\n",
    "\n",
    "        ugrid.cell_arrays[\"faces\"] = cell_array\n",
    "        #netcdf_copy(ds, fname, cell_array)\n",
    "        \n",
    "    ds.close()\n",
    "    \n",
    "    return ugrid"
   ]
  },
  {
   "cell_type": "code",
   "execution_count": null,
   "metadata": {},
   "outputs": [],
   "source": [
    "fname = \"/home/bill/pyvista/data/test/synthetic/mesh_C4.nc\"\n",
    "node_face = \"example_C4_face_nodes\"\n",
    "node_x = \"example_C4_node_x\"\n",
    "node_y = \"example_C4_node_y\"\n",
    "cube = earth_cube_nodes(4)"
   ]
  },
  {
   "cell_type": "code",
   "execution_count": null,
   "metadata": {},
   "outputs": [],
   "source": [
    "fname = \"/home/bill/pyvista/data/test/synthetic/mesh_C12.nc\"\n",
    "node_face = \"dynamics_face_nodes\"\n",
    "node_x = \"dynamics_node_x\"\n",
    "node_y = \"dynamics_node_y\"\n",
    "cube = earth_cube_nodes(12)"
   ]
  },
  {
   "cell_type": "code",
   "execution_count": null,
   "metadata": {},
   "outputs": [],
   "source": [
    "fname = \"/home/bill/pyvista/data/test/synthetic/mesh_C24.nc\"\n",
    "node_face = \"dynamics_face_nodes\"\n",
    "node_x = \"dynamics_node_x\"\n",
    "node_y = \"dynamics_node_y\"\n",
    "cube = earth_cube_nodes(24)"
   ]
  },
  {
   "cell_type": "code",
   "execution_count": null,
   "metadata": {},
   "outputs": [],
   "source": [
    "fname = \"/home/bill/pyvista/data/test/synthetic/mesh_C48.nc\"\n",
    "node_face = \"dynamics_face_nodes\"\n",
    "node_x = \"dynamics_node_x\"\n",
    "node_y = \"dynamics_node_y\"\n",
    "cube = earth_cube_nodes(48)"
   ]
  },
  {
   "cell_type": "code",
   "execution_count": null,
   "metadata": {},
   "outputs": [],
   "source": [
    "fname = \"/home/bill/pyvista/data/test/synthetic/mesh_C96.nc\"\n",
    "node_face = \"dynamics_face_nodes\"\n",
    "node_x = \"dynamics_node_x\"\n",
    "node_y = \"dynamics_node_y\"\n",
    "cube = earth_cube_nodes(96)"
   ]
  },
  {
   "cell_type": "code",
   "execution_count": null,
   "metadata": {},
   "outputs": [],
   "source": [
    "fname = \"/home/bill/pyvista/data/test/synthetic/mesh_C1048.nc\"\n",
    "node_face = \"dynamics_face_nodes\"\n",
    "node_x = \"dynamics_node_x\"\n",
    "node_y = \"dynamics_node_y\"\n",
    "cube = earth_cube_nodes(1048)"
   ]
  },
  {
   "cell_type": "code",
   "execution_count": null,
   "metadata": {},
   "outputs": [],
   "source": [
    "ugrid = to_unstructured(fname, node_face, node_x, node_y, synthetic=False, cube=cube)"
   ]
  },
  {
   "cell_type": "code",
   "execution_count": null,
   "metadata": {},
   "outputs": [],
   "source": [
    "ugrid"
   ]
  },
  {
   "cell_type": "code",
   "execution_count": null,
   "metadata": {},
   "outputs": [],
   "source": [
    "p = pv.PlotterITK()\n",
    "p.add_mesh(ugrid)\n",
    "#p.add_points(ugrid.points, color=\"green\")\n",
    "p.show()"
   ]
  },
  {
   "cell_type": "code",
   "execution_count": null,
   "metadata": {},
   "outputs": [],
   "source": [
    "mesh_fname = \"ugrid_cube_C1048.vtk\"\n",
    "ugrid.save(mesh_fname)"
   ]
  },
  {
   "cell_type": "code",
   "execution_count": null,
   "metadata": {},
   "outputs": [],
   "source": [
    "!ls -l *.vtk"
   ]
  },
  {
   "cell_type": "code",
   "execution_count": null,
   "metadata": {},
   "outputs": [],
   "source": [
    "mesh = pv.read(\"ugrid_cube_C4.vtk\")"
   ]
  },
  {
   "cell_type": "code",
   "execution_count": null,
   "metadata": {},
   "outputs": [],
   "source": [
    "mesh"
   ]
  },
  {
   "cell_type": "code",
   "execution_count": null,
   "metadata": {},
   "outputs": [],
   "source": [
    "p = pv.PlotterITK()\n",
    "p.add_mesh(mesh)\n",
    "#p.add_points(mesh.points, color=\"red\")\n",
    "p.show()"
   ]
  },
  {
   "cell_type": "code",
   "execution_count": null,
   "metadata": {},
   "outputs": [],
   "source": []
  }
 ],
 "metadata": {
  "kernelspec": {
   "display_name": "Python 3",
   "language": "python",
   "name": "python3"
  },
  "language_info": {
   "codemirror_mode": {
    "name": "ipython",
    "version": 3
   },
   "file_extension": ".py",
   "mimetype": "text/x-python",
   "name": "python",
   "nbconvert_exporter": "python",
   "pygments_lexer": "ipython3",
   "version": "3.8.2"
  }
 },
 "nbformat": 4,
 "nbformat_minor": 4
}
