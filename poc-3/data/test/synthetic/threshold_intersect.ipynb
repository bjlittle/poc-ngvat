{
 "cells": [
  {
   "cell_type": "code",
   "execution_count": null,
   "metadata": {},
   "outputs": [],
   "source": [
    "import numpy as np\n",
    "import pyvista as pv"
   ]
  },
  {
   "cell_type": "code",
   "execution_count": null,
   "metadata": {},
   "outputs": [],
   "source": [
    "mesh = pv.read(\"pdata_C96_synthetic.vtk\")"
   ]
  },
  {
   "cell_type": "code",
   "execution_count": null,
   "metadata": {},
   "outputs": [],
   "source": [
    "mesh.point_arrays[\"z\"] = np.array(mesh.points[:, 2])\n",
    "mesh.cell_arrays[\"idx\"] = np.arange(mesh.n_cells)"
   ]
  },
  {
   "cell_type": "code",
   "execution_count": null,
   "metadata": {},
   "outputs": [],
   "source": [
    "lo, hi = -30, 30"
   ]
  },
  {
   "cell_type": "code",
   "execution_count": null,
   "metadata": {},
   "outputs": [],
   "source": [
    "zmin = np.cos(np.radians(90 - lo))\n",
    "zmax = np.cos(np.radians(90 - hi))"
   ]
  },
  {
   "cell_type": "code",
   "execution_count": null,
   "metadata": {},
   "outputs": [],
   "source": [
    "center= (0, 0, 0)\n",
    "inner_hi = 0.2\n",
    "inner_lo = 0.4\n",
    "outer = 1.2\n",
    "normal = (0, 0, 1)\n",
    "r_res = 1\n",
    "c_res = 60\n",
    "opacity = 0.8\n",
    "color = \"white\"\n",
    "\n",
    "hi_disc = pv.Disc(center=center, inner=inner_hi, outer=outer, normal=normal, r_res=r_res, c_res=c_res)\n",
    "hi_disc.translate((0, 0, np.cos(np.radians(90-hi))))\n",
    "lo_disc = pv.Disc(center=center, inner=inner_lo, outer=outer, normal=normal, r_res=r_res, c_res=c_res)\n",
    "lo_disc.translate((0, 0, np.cos(np.radians(90-lo))))"
   ]
  },
  {
   "cell_type": "code",
   "execution_count": null,
   "metadata": {},
   "outputs": [],
   "source": [
    "outside = mesh.threshold(value=(zmin, zmax), scalars=\"z\", invert=True, preference=\"point\")"
   ]
  },
  {
   "cell_type": "code",
   "execution_count": null,
   "metadata": {},
   "outputs": [],
   "source": [
    "mesh[\"idx\"][outside[\"idx\"]] = -1"
   ]
  },
  {
   "cell_type": "code",
   "execution_count": null,
   "metadata": {},
   "outputs": [],
   "source": [
    "region = mesh.threshold(value=0, scalars=\"idx\")"
   ]
  },
  {
   "cell_type": "code",
   "execution_count": null,
   "metadata": {},
   "outputs": [],
   "source": [
    "p = pv.PlotterITK()\n",
    "p.add_mesh(region)\n",
    "p.add_mesh(hi_disc)\n",
    "p.add_mesh(lo_disc)\n",
    "p.show()"
   ]
  },
  {
   "cell_type": "code",
   "execution_count": null,
   "metadata": {},
   "outputs": [],
   "source": []
  }
 ],
 "metadata": {
  "kernelspec": {
   "display_name": "Python 3",
   "language": "python",
   "name": "python3"
  },
  "language_info": {
   "codemirror_mode": {
    "name": "ipython",
    "version": 3
   },
   "file_extension": ".py",
   "mimetype": "text/x-python",
   "name": "python",
   "nbconvert_exporter": "python",
   "pygments_lexer": "ipython3",
   "version": "3.8.2"
  }
 },
 "nbformat": 4,
 "nbformat_minor": 4
}
