{
 "cells": [
  {
   "cell_type": "code",
   "execution_count": null,
   "metadata": {},
   "outputs": [],
   "source": [
    "import numpy as np\n",
    "import pyvista as pv\n",
    "\n",
    "from utils import load_nodes"
   ]
  },
  {
   "cell_type": "code",
   "execution_count": null,
   "metadata": {},
   "outputs": [],
   "source": [
    "def to_polydata(fname, node_face, node_x, node_y, radius=None, start_index=True, panel=None, data=None, step=None, xy=None):\n",
    "    if radius is None:\n",
    "        radius = 1.0\n",
    "        \n",
    "    result = load_nodes(fname, node_face, node_x, node_y, radius, start_index=start_index, data=data, xy=xy)\n",
    "\n",
    "    if data is not None:\n",
    "        if xy:\n",
    "            (x, y, z), faces, data, lons, lats = result\n",
    "        else:\n",
    "            (x, y, z), faces, data = result\n",
    "    else:\n",
    "        if xy:\n",
    "            (x, y, z), faces, lons, lats = result\n",
    "        else:\n",
    "            (x, y, z), faces = result\n",
    "        \n",
    "    vertices = np.vstack((np.ravel(x), np.ravel(y), np.ravel(z))).T\n",
    "    \n",
    "    if panel is not None:\n",
    "        N_panels = 6\n",
    "        N_faces_per_panel = faces.shape[0] // N_panels\n",
    "        s = slice(panel*N_faces_per_panel, (panel+1)*N_faces_per_panel)\n",
    "        faces = faces[s]\n",
    "        if data is not None and step is not None:\n",
    "            data_points = data[step][s] \n",
    "    else:\n",
    "        if data is not None and step is not None:\n",
    "            data_points = data[step]\n",
    "    \n",
    "    pdata = pv.PolyData(vertices, faces)\n",
    "    \n",
    "    if data is not None and step is not None:\n",
    "        pdata.cell_arrays[\"faces\"] = data_points\n",
    "    \n",
    "    if xy:\n",
    "        pdata.point_arrays[\"lons\"] = lons\n",
    "        pdata.point_arrays[\"lats\"] = lats\n",
    "    \n",
    "    return pdata"
   ]
  },
  {
   "cell_type": "code",
   "execution_count": null,
   "metadata": {},
   "outputs": [],
   "source": [
    "fname = \"/home/bill/pyvista/data/test/real/qrclim.sst.ugrid.nc\"\n",
    "node_face = \"dynamics_face_nodes\"\n",
    "node_x = \"dynamics_node_x\"\n",
    "node_y = \"dynamics_node_y\"\n",
    "data = \"surface_temperature\"\n",
    "step = 0\n",
    "panel = 0"
   ]
  },
  {
   "cell_type": "code",
   "execution_count": null,
   "metadata": {},
   "outputs": [],
   "source": [
    "for s in range(12):\n",
    "    pdata = to_polydata(fname, node_face, node_x, node_y, data=data, step=s, panel=None, xy=True)\n",
    "    mesh_fname = f\"pdata_xy_sst_t{s}.vtk\"\n",
    "    pdata.save(mesh_fname)\n",
    "    for p in range(6):\n",
    "        pdata = to_polydata(fname, node_face, node_x, node_y, data=data, step=s, panel=p, xy=True)\n",
    "        mesh_fname = f\"pdata_xy_sst_t{s}_panel{p}.vtk\"\n",
    "        pdata.save(mesh_fname)"
   ]
  },
  {
   "cell_type": "code",
   "execution_count": null,
   "metadata": {},
   "outputs": [],
   "source": [
    "!ls -l pdata*.vtk"
   ]
  },
  {
   "cell_type": "code",
   "execution_count": null,
   "metadata": {},
   "outputs": [],
   "source": [
    "pdata = to_polydata(fname, node_face, node_x, node_y, data=data, step=step, panel=None, xy=True)"
   ]
  },
  {
   "cell_type": "code",
   "execution_count": null,
   "metadata": {
    "scrolled": true
   },
   "outputs": [],
   "source": [
    "pdata"
   ]
  },
  {
   "cell_type": "code",
   "execution_count": null,
   "metadata": {},
   "outputs": [],
   "source": [
    "p = pv.PlotterITK()\n",
    "p.add_mesh(pdata)\n",
    "#p.add_points(ugrid.points, color=\"green\")\n",
    "p.show()"
   ]
  },
  {
   "cell_type": "code",
   "execution_count": null,
   "metadata": {},
   "outputs": [],
   "source": [
    "mesh = pv.read(\"pdata_sst_t0.vtk\")"
   ]
  },
  {
   "cell_type": "code",
   "execution_count": null,
   "metadata": {},
   "outputs": [],
   "source": [
    "mesh"
   ]
  },
  {
   "cell_type": "code",
   "execution_count": null,
   "metadata": {},
   "outputs": [],
   "source": [
    "help(mesh.get_array)"
   ]
  },
  {
   "cell_type": "code",
   "execution_count": null,
   "metadata": {},
   "outputs": [],
   "source": [
    "p = pv.PlotterITK()\n",
    "p.add_mesh(mesh)\n",
    "#p.add_points(mesh.points, color=\"red\")\n",
    "p.show()"
   ]
  },
  {
   "cell_type": "code",
   "execution_count": null,
   "metadata": {},
   "outputs": [],
   "source": []
  }
 ],
 "metadata": {
  "kernelspec": {
   "display_name": "Python 3",
   "language": "python",
   "name": "python3"
  },
  "language_info": {
   "codemirror_mode": {
    "name": "ipython",
    "version": 3
   },
   "file_extension": ".py",
   "mimetype": "text/x-python",
   "name": "python",
   "nbconvert_exporter": "python",
   "pygments_lexer": "ipython3",
   "version": "3.8.2"
  }
 },
 "nbformat": 4,
 "nbformat_minor": 4
}
