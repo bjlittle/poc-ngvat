{
 "cells": [
  {
   "cell_type": "code",
   "execution_count": null,
   "metadata": {},
   "outputs": [],
   "source": [
    "from collections import Iterable\n",
    "import matplotlib.pyplot as plt\n",
    "import netCDF4 as nc\n",
    "import numpy as np\n",
    "import pyvista as pv\n",
    "import vtk"
   ]
  },
  {
   "cell_type": "code",
   "execution_count": null,
   "metadata": {},
   "outputs": [],
   "source": [
    "def to_unstructured(fname, node_face, node_x, node_y, radius=None, start_index=True, panel=None, data=None, step=None):\n",
    "    if radius is None:\n",
    "        radius = 1.0\n",
    "        \n",
    "    with nc.Dataset(fname) as ds:\n",
    "        node_face = ds.variables[node_face][:].data\n",
    "        node_x = ds.variables[node_x][:].data\n",
    "        node_y = ds.variables[node_y][:].data\n",
    "        if data is not None and step is not None:\n",
    "            data = ds.variables[data][:]\n",
    "            mask = data.mask\n",
    "            data = data.data\n",
    "            data[mask] = np.nan\n",
    "        \n",
    "    # account for start_index = 1\n",
    "    if start_index:\n",
    "        node_x = np.concatenate(([0], node_x))\n",
    "        node_y = np.concatenate(([0], node_y))\n",
    "    \n",
    "    # convert lat/lon to cartesian coordinates\n",
    "    node_face_x = node_x[node_face]\n",
    "    node_face_y = 90.0 - node_y[node_face]\n",
    "    \n",
    "    node_face_x_rad = np.radians(node_face_x)\n",
    "    node_face_y_rad = np.radians(node_face_y)\n",
    "    \n",
    "    x = radius * np.sin(node_face_y_rad) * np.cos(node_face_x_rad)\n",
    "    y = radius * np.sin(node_face_y_rad) * np.sin(node_face_x_rad)\n",
    "    z = radius * np.cos(node_face_y_rad)\n",
    "    \n",
    "    # set the VTK cell type and number of vertices\n",
    "    vtk_cell_type = vtk.VTK_QUAD\n",
    "    N_nodes = 4\n",
    "    N_panels = 6\n",
    "    \n",
    "    # create unstructured grid\n",
    "    points = np.vstack((np.ravel(x), np.ravel(y), np.ravel(z))).T\n",
    "    \n",
    "    if panel is not None:\n",
    "        PN = points.shape[0] // N_panels\n",
    "        \n",
    "        if isinstance(panel, Iterable):\n",
    "            panel_points = []\n",
    "            data_points = []\n",
    "            \n",
    "            for p in sorted(panel):\n",
    "                panel_points.append(points[p*PN:(p+1)*PN])\n",
    "                if data is not None:\n",
    "                    data_points.append(data[step][p*(PN//N_nodes):(p+1)*(PN//N_nodes)])\n",
    "                \n",
    "            points = np.concatenate(tuple(panel_points))\n",
    "            if data is not None:\n",
    "                data_points = np.concatenate(tuple(data_points))\n",
    "        else:\n",
    "            points = points[panel*PN:(panel+1)*PN]\n",
    "            if data is not None:\n",
    "                data_points = data[step][panel*(PN//N_nodes):(panel+1)*(PN//N_nodes)]\n",
    "    else:\n",
    "        if data is not None:\n",
    "            data_points = data[step]\n",
    "            \n",
    "    N_points = points.shape[0]\n",
    "    N_faces = N_points // N_nodes\n",
    "    N_faces_per_panel = N_faces // N_panels\n",
    "    print(N_points, N_faces, N_faces_per_panel, N_nodes)\n",
    "    cell_type = np.broadcast_to(np.array([vtk.VTK_QUAD], np.uint8), (N_faces,))\n",
    "    cells = np.ravel(np.hstack((np.broadcast_to(np.array([N_nodes], np.int8), (N_faces, 1)),\n",
    "                                np.arange(0, N_points).reshape((-1, N_nodes)))))\n",
    "    offset = np.arange(0, cells.shape[0], N_nodes + 1)\n",
    "    \n",
    "    ugrid = pv.UnstructuredGrid(offset, cells, cell_type, points)\n",
    "    \n",
    "    if data is not None:\n",
    "        ugrid.cell_arrays[\"faces\"] = data_points\n",
    "    \n",
    "    return ugrid"
   ]
  },
  {
   "cell_type": "code",
   "execution_count": null,
   "metadata": {},
   "outputs": [],
   "source": [
    "fname = \"/home/bill/pyvista/data/test/real/qrclim.sst.ugrid.nc\"\n",
    "node_face = \"dynamics_face_nodes\"\n",
    "node_x = \"dynamics_node_x\"\n",
    "node_y = \"dynamics_node_y\"\n",
    "data = \"surface_temperature\"\n",
    "step = 0\n",
    "panel = None"
   ]
  },
  {
   "cell_type": "code",
   "execution_count": null,
   "metadata": {},
   "outputs": [],
   "source": [
    "for s in range(12):\n",
    "    ugrid = to_unstructured(fname, node_face, node_x, node_y, data=data, step=s, panel=None)\n",
    "    mesh_fname = f\"ugrid_sst_t{s}.vtk\"\n",
    "    ugrid.save(mesh_fname)\n",
    "    for p in range(6):\n",
    "        ugrid = to_unstructured(fname, node_face, node_x, node_y, data=data, step=s, panel=p)\n",
    "        mesh_fname = f\"ugrid_sst_t{s}_panel{p}.vtk\"\n",
    "        ugrid.save(mesh_fname)"
   ]
  },
  {
   "cell_type": "code",
   "execution_count": null,
   "metadata": {},
   "outputs": [],
   "source": [
    "!ls -l ugrid*.vtk"
   ]
  },
  {
   "cell_type": "code",
   "execution_count": null,
   "metadata": {},
   "outputs": [],
   "source": [
    "ugrid = to_unstructured(fname, node_face, node_x, node_y, data=data, step=step, panel=panel)"
   ]
  },
  {
   "cell_type": "code",
   "execution_count": null,
   "metadata": {
    "scrolled": true
   },
   "outputs": [],
   "source": [
    "ugrid"
   ]
  },
  {
   "cell_type": "code",
   "execution_count": null,
   "metadata": {},
   "outputs": [],
   "source": [
    "p = pv.Plotter()\n",
    "p.add_mesh(ugrid)\n",
    "#p.add_points(ugrid.points, color=\"green\")\n",
    "p.show()"
   ]
  },
  {
   "cell_type": "code",
   "execution_count": null,
   "metadata": {},
   "outputs": [],
   "source": [
    "mesh = pv.read(mesh_fname)"
   ]
  },
  {
   "cell_type": "code",
   "execution_count": null,
   "metadata": {},
   "outputs": [],
   "source": [
    "mesh"
   ]
  },
  {
   "cell_type": "code",
   "execution_count": null,
   "metadata": {},
   "outputs": [],
   "source": [
    "p = pv.PlotterITK()\n",
    "p.add_mesh(mesh)\n",
    "#p.add_points(mesh.points, color=\"red\")\n",
    "p.show()"
   ]
  },
  {
   "cell_type": "code",
   "execution_count": null,
   "metadata": {},
   "outputs": [],
   "source": []
  }
 ],
 "metadata": {
  "kernelspec": {
   "display_name": "Python 3",
   "language": "python",
   "name": "python3"
  },
  "language_info": {
   "codemirror_mode": {
    "name": "ipython",
    "version": 3
   },
   "file_extension": ".py",
   "mimetype": "text/x-python",
   "name": "python",
   "nbconvert_exporter": "python",
   "pygments_lexer": "ipython3",
   "version": "3.8.2"
  }
 },
 "nbformat": 4,
 "nbformat_minor": 4
}
